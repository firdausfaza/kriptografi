{
 "cells": [
  {
   "attachments": {},
   "cell_type": "markdown",
   "metadata": {},
   "source": [
    "### Nama : Firdaus Aulia Faza\n",
    "### NIM : L280220004"
   ]
  },
  {
   "attachments": {},
   "cell_type": "markdown",
   "metadata": {},
   "source": [
    "### Tugas Advance Information Security \n"
   ]
  },
  {
   "attachments": {},
   "cell_type": "markdown",
   "metadata": {},
   "source": [
    "Implementasikan kriptografi untuk keperluan:\n",
    "1. Hashing\n",
    "2. Simmetric Encryption\n",
    "3. Asymetric Encryption\n",
    "4. Message Integrity, Signature and Certificates\n",
    "\n",
    "Yg dikerjakan: \n",
    "1. Contoh Dasar dan penjelasan tiap langkahnya \n",
    "2. Contoh dengan sekuriti terbaik saat ini dengan penjelasan tiap langkahnya\n",
    "\n",
    " prinsipnya anda dapat mengimplementasikan dalam bahasa python dan memahami cara kerjanya\n"
   ]
  },
  {
   "attachments": {},
   "cell_type": "markdown",
   "metadata": {},
   "source": [
    "### HASHING MD5"
   ]
  },
  {
   "cell_type": "code",
   "execution_count": 2,
   "metadata": {},
   "outputs": [],
   "source": [
    "import hashlib"
   ]
  },
  {
   "attachments": {},
   "cell_type": "markdown",
   "metadata": {},
   "source": [
    "import hashlib\n",
    "kode ini digunakan untuk menginisiasi atau mengimport library atau modul hashlib. merupakan hashlib adalah modul bawaan dalam bahasa pemrograman Python yang menyediakan antarmuka untuk berbagai fungsi hash kriptografi, termasuk MD5, SHA1, SHA256, dan sebagainya\n",
    "\n"
   ]
  },
  {
   "cell_type": "code",
   "execution_count": 13,
   "metadata": {},
   "outputs": [],
   "source": [
    "md5hasher = hashlib.md5(b'Firdaus Aulia Faza')"
   ]
  },
  {
   "attachments": {},
   "cell_type": "markdown",
   "metadata": {},
   "source": [
    "md5hasher = hashlib.md5(b'firdaus aulia faza'): Baris ini membuat objek md5hasher dengan memanggil fungsi md5() dari modul hashlib.  b'firdaus aulia faza' merupakan data masukan yang ingin dihash. data string yang digunakan adalah 'firdaus aulia faza' yang dienkripsi menjadi bentuk byte menggunakan b di depannya.\n",
    "\n"
   ]
  },
  {
   "cell_type": "code",
   "execution_count": 15,
   "metadata": {},
   "outputs": [
    {
     "data": {
      "text/plain": [
       "'49af1c936817f3fe17cac0b9d483d9b9'"
      ]
     },
     "execution_count": 15,
     "metadata": {},
     "output_type": "execute_result"
    }
   ],
   "source": [
    "md5hasher.hexdigest()"
   ]
  },
  {
   "attachments": {},
   "cell_type": "markdown",
   "metadata": {},
   "source": [
    "md5hasher.hexdigest() adalah metode yang digunakan pada objek hash MD5 untuk mengembalikan nilai hash yang dihasilkan dalam bentuk string heksadesimal.\n",
    "\n"
   ]
  },
  {
   "attachments": {},
   "cell_type": "markdown",
   "metadata": {},
   "source": [
    "### HASHING SHA-3 256 \n"
   ]
  },
  {
   "attachments": {},
   "cell_type": "markdown",
   "metadata": {},
   "source": [
    "SHA-3 (Secure Hash Algorithm 3) adalah algoritma hash kriptografis yang dihasilkan dari kompetisi NIST (National Institute of Standards and Technology) pada tahun 2012.\n",
    "saya memilih algoritma ini dikarenakan setelah membaca dari berbagai sumber bahwa SHA-3 mempunyai keamanan terbaik untuk saat ini"
   ]
  },
  {
   "cell_type": "code",
   "execution_count": 23,
   "metadata": {},
   "outputs": [],
   "source": [
    "# import hashlib\n",
    "sha3_256_hasher = hashlib.sha3_256(b'firdaus aulia faza')"
   ]
  },
  {
   "attachments": {},
   "cell_type": "markdown",
   "metadata": {},
   "source": [
    "dikarenakan kode paling atas sudah hashlib sudah saya import maka saya koment. sha3_256_hasher = hashlib.sha3_256(b'firdaus aulia faza') merupakan variable yang menyimpan enkripsi HASH dari string firdaus aulia faza"
   ]
  },
  {
   "cell_type": "code",
   "execution_count": 21,
   "metadata": {},
   "outputs": [
    {
     "data": {
      "text/plain": [
       "'sha3_256'"
      ]
     },
     "execution_count": 21,
     "metadata": {},
     "output_type": "execute_result"
    }
   ],
   "source": [
    "sha3_256_hasher.name"
   ]
  },
  {
   "attachments": {},
   "cell_type": "markdown",
   "metadata": {},
   "source": [
    "sha3_256_hasher.name fungsi ini saya panggil untuk memastikan variable sudah menggunakan algoritma sha3_256"
   ]
  },
  {
   "cell_type": "code",
   "execution_count": 22,
   "metadata": {},
   "outputs": [
    {
     "data": {
      "text/plain": [
       "'6efa18e0098f43728af799c17e6d0c94286948e1b4b7f5c04699bd7eabba988c'"
      ]
     },
     "execution_count": 22,
     "metadata": {},
     "output_type": "execute_result"
    }
   ],
   "source": [
    "sha3_256_hasher.hexdigest()\n"
   ]
  },
  {
   "attachments": {},
   "cell_type": "markdown",
   "metadata": {},
   "source": [
    "lalu sha3_256_hasher.hexdigest() digunakan untuk memanggil hasil dari suatu variable yang sudah di hash dan hasilnya adalah 6efa18e0098f43728af799c17e6d0c94286948e1b4b7f5c04699bd7eabba988c"
   ]
  },
  {
   "attachments": {},
   "cell_type": "markdown",
   "metadata": {},
   "source": [
    "### HASHING BCRYPT \n"
   ]
  },
  {
   "attachments": {},
   "cell_type": "markdown",
   "metadata": {},
   "source": [
    "Bcrypt adalah sebuah fungsi hash dan algoritma hashing yang dirancang khusus untuk keperluan hashing kata sandi (password hashing). Bcrypt juga salah satu algoritma yang sering saya pakai saat membuat password dari user dari sebuah proyek"
   ]
  },
  {
   "cell_type": "code",
   "execution_count": 24,
   "metadata": {},
   "outputs": [
    {
     "name": "stdout",
     "output_type": "stream",
     "text": [
      "Requirement already satisfied: bcrypt in c:\\users\\osa\\anaconda3\\lib\\site-packages (3.2.0)\n",
      "Requirement already satisfied: six>=1.4.1 in c:\\users\\osa\\anaconda3\\lib\\site-packages (from bcrypt) (1.16.0)\n",
      "Requirement already satisfied: cffi>=1.1 in c:\\users\\osa\\anaconda3\\lib\\site-packages (from bcrypt) (1.15.1)\n",
      "Requirement already satisfied: pycparser in c:\\users\\osa\\anaconda3\\lib\\site-packages (from cffi>=1.1->bcrypt) (2.21)\n",
      "Note: you may need to restart the kernel to use updated packages.\n"
     ]
    }
   ],
   "source": [
    "pip install bcrypt"
   ]
  },
  {
   "attachments": {},
   "cell_type": "markdown",
   "metadata": {},
   "source": [
    "pip install bcrypt merupakan perintah untuk menginstall library bcrypt"
   ]
  },
  {
   "cell_type": "code",
   "execution_count": 25,
   "metadata": {},
   "outputs": [],
   "source": [
    "import bcrypt"
   ]
  },
  {
   "attachments": {},
   "cell_type": "markdown",
   "metadata": {},
   "source": [
    "import bcrypt digunakan untuk menginisiasi library bcrypt"
   ]
  },
  {
   "cell_type": "code",
   "execution_count": 50,
   "metadata": {},
   "outputs": [],
   "source": [
    "password = b\"inimerupakanpassword123\""
   ]
  },
  {
   "attachments": {},
   "cell_type": "markdown",
   "metadata": {},
   "source": [
    "password = b\"inimerupakanpassword123\"\n",
    "membuat variabel dengan nama password"
   ]
  },
  {
   "cell_type": "code",
   "execution_count": 51,
   "metadata": {},
   "outputs": [],
   "source": [
    "salt = bcrypt.gensalt()"
   ]
  },
  {
   "attachments": {},
   "cell_type": "markdown",
   "metadata": {},
   "source": [
    "salt = bcrypt.gensalt()\n",
    "gensalt digunakan untuk memperkuat keamanan dan mencegah serangan dengan menggunakan tabel hash pra-dihitung (rainbow table).\n",
    "\n"
   ]
  },
  {
   "cell_type": "code",
   "execution_count": 52,
   "metadata": {},
   "outputs": [],
   "source": [
    "hashed_password = bcrypt.hashpw(password, salt)\n"
   ]
  },
  {
   "attachments": {},
   "cell_type": "markdown",
   "metadata": {},
   "source": [
    "hashed_password = bcrypt.hashpw(password, salt)\n",
    "Melakukan hashing kata sandi "
   ]
  },
  {
   "cell_type": "code",
   "execution_count": 53,
   "metadata": {},
   "outputs": [
    {
     "name": "stdout",
     "output_type": "stream",
     "text": [
      "Kata sandi terenkripsi: b'$2b$12$7J8fENFOKhp/LK4FV77houHg7o00y3hcoILAiRTpgr5J0kTu0/KVm'\n"
     ]
    }
   ],
   "source": [
    "print(\"Kata sandi terenkripsi:\", hashed_password)\n"
   ]
  },
  {
   "attachments": {},
   "cell_type": "markdown",
   "metadata": {},
   "source": [
    "melihat kata sandi sudah terenkripsi $2b$12$7J8fENFOKhp/LK4FV77houHg7o00y3hcoILAiRTpgr5J0kTu0/KVm"
   ]
  },
  {
   "attachments": {},
   "cell_type": "markdown",
   "metadata": {},
   "source": [
    "### Simmetric Encryption"
   ]
  },
  {
   "attachments": {},
   "cell_type": "markdown",
   "metadata": {},
   "source": [
    "Simmetric Encryption menggunakan ECB"
   ]
  },
  {
   "cell_type": "code",
   "execution_count": 132,
   "metadata": {},
   "outputs": [],
   "source": [
    "from cryptography.hazmat.primitives.ciphers import Cipher, algorithms, modes\n",
    "from cryptography.hazmat.backends import default_backend\n",
    "import os"
   ]
  },
  {
   "attachments": {},
   "cell_type": "markdown",
   "metadata": {},
   "source": [
    "MEngimport library dari cryptography seperti cipher, algorithm dan modes"
   ]
  },
  {
   "cell_type": "code",
   "execution_count": 133,
   "metadata": {},
   "outputs": [],
   "source": [
    "key = os.urandom(16)"
   ]
  },
  {
   "cell_type": "code",
   "execution_count": 145,
   "metadata": {},
   "outputs": [
    {
     "name": "stdout",
     "output_type": "stream",
     "text": [
      "Kunci: b'\\x17a\\xd2x\\xcaLN,\\x014\\xd0a\\xe1Z\\xd9\\xb0'\n"
     ]
    }
   ],
   "source": [
    "print(\"Kunci:\", key)"
   ]
  },
  {
   "attachments": {},
   "cell_type": "markdown",
   "metadata": {},
   "source": [
    "key = os.urandom(16) variable key berisi acak terdiri dari 16 "
   ]
  },
  {
   "cell_type": "code",
   "execution_count": 134,
   "metadata": {},
   "outputs": [],
   "source": [
    "aesCipher = Cipher(algorithms.AES(key), modes.ECB(), backend=default_backend())"
   ]
  },
  {
   "attachments": {},
   "cell_type": "markdown",
   "metadata": {},
   "source": [
    "aesCipher = Cipher(algorithms.AES(key), modes.ECB(), backend=default_backend()) variable aesCipher menyimpan inisiasi objek dari algoritma aes dengan kunci dari variable key lalu modes ECB digunakan untuk menginisaisi enkripsi dan deskripsi "
   ]
  },
  {
   "cell_type": "code",
   "execution_count": 135,
   "metadata": {},
   "outputs": [],
   "source": [
    "aesEncryptor = aesCipher.encryptor()\n",
    "aesDecryptor = aesCipher.decryptor()"
   ]
  },
  {
   "attachments": {},
   "cell_type": "markdown",
   "metadata": {},
   "source": [
    "aesEncryptor = aesCipher.encryptor() digunakan untuk menenkripsikan aesDecryptor = aesCipher.decryptor() digunakan untuk decrytion"
   ]
  },
  {
   "cell_type": "code",
   "execution_count": 136,
   "metadata": {},
   "outputs": [
    {
     "data": {
      "text/plain": [
       "b''"
      ]
     },
     "execution_count": 136,
     "metadata": {},
     "output_type": "execute_result"
    }
   ],
   "source": [
    "aesEncryptor.update(b'alice')"
   ]
  },
  {
   "attachments": {},
   "cell_type": "markdown",
   "metadata": {},
   "source": [
    "aesEncryptor.update(b'alice') digunakan untuk menenkripsikan \"alice\" dikarenakan kata \"alice\" hanya 5 karakter maka hasilnya tidak terlihat sampai diupdate menjadi 16 karakter"
   ]
  },
  {
   "cell_type": "code",
   "execution_count": 137,
   "metadata": {},
   "outputs": [
    {
     "data": {
      "text/plain": [
       "b''"
      ]
     },
     "execution_count": 137,
     "metadata": {},
     "output_type": "execute_result"
    }
   ],
   "source": [
    "aesEncryptor.update(b'bob')"
   ]
  },
  {
   "cell_type": "code",
   "execution_count": 138,
   "metadata": {},
   "outputs": [
    {
     "data": {
      "text/plain": [
       "b''"
      ]
     },
     "execution_count": 138,
     "metadata": {},
     "output_type": "execute_result"
    }
   ],
   "source": [
    "aesEncryptor.update(b'bob')"
   ]
  },
  {
   "cell_type": "code",
   "execution_count": 139,
   "metadata": {},
   "outputs": [
    {
     "data": {
      "text/plain": [
       "b''"
      ]
     },
     "execution_count": 139,
     "metadata": {},
     "output_type": "execute_result"
    }
   ],
   "source": [
    "aesEncryptor.update(b'bob')"
   ]
  },
  {
   "cell_type": "code",
   "execution_count": 140,
   "metadata": {},
   "outputs": [
    {
     "data": {
      "text/plain": [
       "b' NV\\x92\\x11\\x82\\xeft\\xd4ZMy\\xe7)I|'"
      ]
     },
     "execution_count": 140,
     "metadata": {},
     "output_type": "execute_result"
    }
   ],
   "source": [
    "aesEncryptor.update(b'bob')"
   ]
  },
  {
   "attachments": {},
   "cell_type": "markdown",
   "metadata": {},
   "source": [
    "setelah beberapakali untuk mengupdate enkriptor maka sudah 16 karakter dan sudah terlihat hasilnya "
   ]
  },
  {
   "cell_type": "code",
   "execution_count": 146,
   "metadata": {},
   "outputs": [
    {
     "data": {
      "text/plain": [
       "b'alicebobbobbobbo'"
      ]
     },
     "execution_count": 146,
     "metadata": {},
     "output_type": "execute_result"
    }
   ],
   "source": [
    "aesDecryptor.update(_)"
   ]
  },
  {
   "attachments": {},
   "cell_type": "markdown",
   "metadata": {},
   "source": [
    "aesDecryptor.update(_) digunakan untuk mendekriptor dan hasilnya b'alicebobbobbobbo' yang mempunyai 16 karakter"
   ]
  },
  {
   "attachments": {},
   "cell_type": "markdown",
   "metadata": {},
   "source": [
    "### Algoritma AES"
   ]
  },
  {
   "cell_type": "code",
   "execution_count": 169,
   "metadata": {},
   "outputs": [],
   "source": [
    "from cryptography.fernet import Fernet"
   ]
  },
  {
   "attachments": {},
   "cell_type": "markdown",
   "metadata": {},
   "source": [
    "from cryptography.fernet import Fernet mengimport library cryptography yang berisi  fernet"
   ]
  },
  {
   "cell_type": "code",
   "execution_count": 170,
   "metadata": {},
   "outputs": [],
   "source": [
    "def encrypt(plaintext, key):\n",
    "    f = Fernet(key)\n",
    "    encrypted_text = f.encrypt(plaintext)\n",
    "    return encrypted_text\n",
    "\n"
   ]
  },
  {
   "attachments": {},
   "cell_type": "markdown",
   "metadata": {},
   "source": [
    "mmebuat fungsi enkripsi yang berisi variabel f dan encrypted_text"
   ]
  },
  {
   "cell_type": "code",
   "execution_count": 171,
   "metadata": {},
   "outputs": [],
   "source": [
    "def decrypt(ciphertext, key):\n",
    "    f = Fernet(key)\n",
    "    decrypted_text = f.decrypt(ciphertext)\n",
    "    return decrypted_text\n",
    "\n",
    "\n",
    "\n"
   ]
  },
  {
   "attachments": {},
   "cell_type": "markdown",
   "metadata": {},
   "source": [
    "mmebuat fungsi enkripsi yang berisi variabel f dan decrypted text"
   ]
  },
  {
   "cell_type": "code",
   "execution_count": 172,
   "metadata": {},
   "outputs": [],
   "source": [
    "plaintext = b\"This is a secret message.\"\n",
    "key = Fernet.generate_key()  # Menghasilkan kunci acak\n",
    "\n"
   ]
  },
  {
   "attachments": {},
   "cell_type": "markdown",
   "metadata": {},
   "source": [
    "membuat variabel plain text dan key"
   ]
  },
  {
   "cell_type": "code",
   "execution_count": 173,
   "metadata": {},
   "outputs": [
    {
     "name": "stdout",
     "output_type": "stream",
     "text": [
      "Ciphertext: b'gAAAAABklC1y01JVtp8XlRXc-RWy-LJJ32ZNdgaNQuUm6utnZqv8U2slWfx_3qsWgLFlAm6dC914DEvg4p5Ctze4dMdU4Jw3ED7RF6RqAbIgpsnPIZV-HgE='\n"
     ]
    }
   ],
   "source": [
    "ciphertext = encrypt(plaintext, key)\n",
    "print(\"Ciphertext:\", ciphertext)\n"
   ]
  },
  {
   "attachments": {},
   "cell_type": "markdown",
   "metadata": {},
   "source": [
    "membuat variabel ciphertext yang berisi fungsi encrypt dari plaintext dan key\n",
    "lalu mencetak ciphertext"
   ]
  },
  {
   "cell_type": "code",
   "execution_count": 174,
   "metadata": {},
   "outputs": [
    {
     "name": "stdout",
     "output_type": "stream",
     "text": [
      "Decrypted text: This is a secret message.\n"
     ]
    }
   ],
   "source": [
    "decrypted_text = decrypt(ciphertext, key)\n",
    "print(\"Decrypted text:\", decrypted_text.decode(\"utf-8\"))\n"
   ]
  },
  {
   "attachments": {},
   "cell_type": "markdown",
   "metadata": {},
   "source": [
    "mendekrip ciphertext menggunakan key lalu dicetak "
   ]
  }
 ],
 "metadata": {
  "kernelspec": {
   "display_name": "base",
   "language": "python",
   "name": "python3"
  },
  "language_info": {
   "codemirror_mode": {
    "name": "ipython",
    "version": 3
   },
   "file_extension": ".py",
   "mimetype": "text/x-python",
   "name": "python",
   "nbconvert_exporter": "python",
   "pygments_lexer": "ipython3",
   "version": "3.10.9"
  },
  "orig_nbformat": 4
 },
 "nbformat": 4,
 "nbformat_minor": 2
}
