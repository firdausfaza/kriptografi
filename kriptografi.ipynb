{
 "cells": [
  {
   "attachments": {},
   "cell_type": "markdown",
   "metadata": {},
   "source": [
    "### Nama : Firdaus Aulia Faza\n",
    "### NIM : L280220004"
   ]
  },
  {
   "attachments": {},
   "cell_type": "markdown",
   "metadata": {},
   "source": [
    "### Tugas Advance Information Security \n"
   ]
  },
  {
   "attachments": {},
   "cell_type": "markdown",
   "metadata": {},
   "source": [
    "Implementasikan kriptografi untuk keperluan:\n",
    "1. Hashing\n",
    "2. Simmetric Encryption\n",
    "3. Asymetric Encryption\n",
    "4. Message Integrity, Signature and Certificates\n",
    "\n",
    "Yg dikerjakan: \n",
    "1. Contoh Dasar dan penjelasan tiap langkahnya \n",
    "2. Contoh dengan sekuriti terbaik saat ini dengan penjelasan tiap langkahnya\n",
    "\n",
    " prinsipnya anda dapat mengimplementasikan dalam bahasa python dan memahami cara kerjanya\n"
   ]
  },
  {
   "attachments": {},
   "cell_type": "markdown",
   "metadata": {},
   "source": [
    "### HASHING MD5"
   ]
  },
  {
   "cell_type": "code",
   "execution_count": 12,
   "metadata": {},
   "outputs": [],
   "source": [
    "import hashlib"
   ]
  },
  {
   "attachments": {},
   "cell_type": "markdown",
   "metadata": {},
   "source": [
    "import hashlib\n",
    "kode ini digunakan untuk menginisiasi atau mengimport library atau modul hashlib. merupakan hashlib adalah modul bawaan dalam bahasa pemrograman Python yang menyediakan antarmuka untuk berbagai fungsi hash kriptografi, termasuk MD5, SHA1, SHA256, dan sebagainya\n",
    "\n"
   ]
  },
  {
   "cell_type": "code",
   "execution_count": 13,
   "metadata": {},
   "outputs": [],
   "source": [
    "md5hasher = hashlib.md5(b'Firdaus Aulia Faza')"
   ]
  },
  {
   "attachments": {},
   "cell_type": "markdown",
   "metadata": {},
   "source": [
    "md5hasher = hashlib.md5(b'firdaus aulia faza'): Baris ini membuat objek md5hasher dengan memanggil fungsi md5() dari modul hashlib.  b'firdaus aulia faza' merupakan data masukan yang ingin dihash. data string yang digunakan adalah 'firdaus aulia faza' yang dienkripsi menjadi bentuk byte menggunakan b di depannya.\n",
    "\n"
   ]
  },
  {
   "cell_type": "code",
   "execution_count": 14,
   "metadata": {},
   "outputs": [
    {
     "data": {
      "text/plain": [
       "'49af1c936817f3fe17cac0b9d483d9b9'"
      ]
     },
     "execution_count": 14,
     "metadata": {},
     "output_type": "execute_result"
    }
   ],
   "source": [
    "md5hasher.hexdigest()"
   ]
  },
  {
   "attachments": {},
   "cell_type": "markdown",
   "metadata": {},
   "source": [
    "md5hasher.hexdigest() adalah metode yang digunakan pada objek hash MD5 untuk mengembalikan nilai hash yang dihasilkan dalam bentuk string heksadesimal.\n",
    "\n"
   ]
  },
  {
   "attachments": {},
   "cell_type": "markdown",
   "metadata": {},
   "source": [
    "### HASHING SHA-3 256 \n"
   ]
  },
  {
   "attachments": {},
   "cell_type": "markdown",
   "metadata": {},
   "source": [
    "SHA-3 (Secure Hash Algorithm 3) adalah algoritma hash kriptografis yang dihasilkan dari kompetisi NIST (National Institute of Standards and Technology) pada tahun 2012.\n",
    "saya memilih algoritma ini dikarenakan setelah membaca dari berbagai sumber bahwa SHA-3 mempunyai keamanan terbaik untuk saat ini"
   ]
  },
  {
   "cell_type": "code",
   "execution_count": 15,
   "metadata": {},
   "outputs": [],
   "source": [
    "# import hashlib\n",
    "sha3_256_hasher = hashlib.sha3_256(b'firdaus aulia faza')"
   ]
  },
  {
   "attachments": {},
   "cell_type": "markdown",
   "metadata": {},
   "source": [
    "dikarenakan kode paling atas sudah hashlib sudah saya import maka saya koment. sha3_256_hasher = hashlib.sha3_256(b'firdaus aulia faza') merupakan variable yang menyimpan enkripsi HASH dari string firdaus aulia faza"
   ]
  },
  {
   "cell_type": "code",
   "execution_count": 16,
   "metadata": {},
   "outputs": [
    {
     "data": {
      "text/plain": [
       "'sha3_256'"
      ]
     },
     "execution_count": 16,
     "metadata": {},
     "output_type": "execute_result"
    }
   ],
   "source": [
    "sha3_256_hasher.name"
   ]
  },
  {
   "attachments": {},
   "cell_type": "markdown",
   "metadata": {},
   "source": [
    "sha3_256_hasher.name fungsi ini saya panggil untuk memastikan variable sudah menggunakan algoritma sha3_256"
   ]
  },
  {
   "cell_type": "code",
   "execution_count": 17,
   "metadata": {},
   "outputs": [
    {
     "data": {
      "text/plain": [
       "'6efa18e0098f43728af799c17e6d0c94286948e1b4b7f5c04699bd7eabba988c'"
      ]
     },
     "execution_count": 17,
     "metadata": {},
     "output_type": "execute_result"
    }
   ],
   "source": [
    "sha3_256_hasher.hexdigest()\n"
   ]
  },
  {
   "attachments": {},
   "cell_type": "markdown",
   "metadata": {},
   "source": [
    "lalu sha3_256_hasher.hexdigest() digunakan untuk memanggil hasil dari suatu variable yang sudah di hash dan hasilnya adalah 6efa18e0098f43728af799c17e6d0c94286948e1b4b7f5c04699bd7eabba988c"
   ]
  },
  {
   "attachments": {},
   "cell_type": "markdown",
   "metadata": {},
   "source": [
    "### HASHING BCRYPT \n"
   ]
  },
  {
   "attachments": {},
   "cell_type": "markdown",
   "metadata": {},
   "source": [
    "Bcrypt adalah sebuah fungsi hash dan algoritma hashing yang dirancang khusus untuk keperluan hashing kata sandi (password hashing). Bcrypt juga salah satu algoritma yang sering saya pakai saat membuat password dari user dari sebuah proyek"
   ]
  },
  {
   "cell_type": "code",
   "execution_count": 18,
   "metadata": {},
   "outputs": [
    {
     "name": "stdout",
     "output_type": "stream",
     "text": [
      "Requirement already satisfied: bcrypt in c:\\users\\osa\\anaconda3\\lib\\site-packages (3.2.0)\n",
      "Requirement already satisfied: six>=1.4.1 in c:\\users\\osa\\anaconda3\\lib\\site-packages (from bcrypt) (1.16.0)\n",
      "Requirement already satisfied: cffi>=1.1 in c:\\users\\osa\\anaconda3\\lib\\site-packages (from bcrypt) (1.15.1)\n",
      "Requirement already satisfied: pycparser in c:\\users\\osa\\anaconda3\\lib\\site-packages (from cffi>=1.1->bcrypt) (2.21)\n",
      "Note: you may need to restart the kernel to use updated packages.\n"
     ]
    }
   ],
   "source": [
    "pip install bcrypt"
   ]
  },
  {
   "attachments": {},
   "cell_type": "markdown",
   "metadata": {},
   "source": [
    "pip install bcrypt merupakan perintah untuk menginstall library bcrypt"
   ]
  },
  {
   "cell_type": "code",
   "execution_count": 19,
   "metadata": {},
   "outputs": [],
   "source": [
    "import bcrypt"
   ]
  },
  {
   "attachments": {},
   "cell_type": "markdown",
   "metadata": {},
   "source": [
    "import bcrypt digunakan untuk menginisiasi library bcrypt"
   ]
  },
  {
   "cell_type": "code",
   "execution_count": 20,
   "metadata": {},
   "outputs": [],
   "source": [
    "password = b\"inimerupakanpassword123\""
   ]
  },
  {
   "attachments": {},
   "cell_type": "markdown",
   "metadata": {},
   "source": [
    "password = b\"inimerupakanpassword123\"\n",
    "membuat variabel dengan nama password"
   ]
  },
  {
   "cell_type": "code",
   "execution_count": 21,
   "metadata": {},
   "outputs": [],
   "source": [
    "salt = bcrypt.gensalt()"
   ]
  },
  {
   "attachments": {},
   "cell_type": "markdown",
   "metadata": {},
   "source": [
    "salt = bcrypt.gensalt()\n",
    "gensalt digunakan untuk memperkuat keamanan dan mencegah serangan dengan menggunakan tabel hash pra-dihitung (rainbow table).\n",
    "\n"
   ]
  },
  {
   "cell_type": "code",
   "execution_count": 22,
   "metadata": {},
   "outputs": [],
   "source": [
    "hashed_password = bcrypt.hashpw(password, salt)\n"
   ]
  },
  {
   "attachments": {},
   "cell_type": "markdown",
   "metadata": {},
   "source": [
    "hashed_password = bcrypt.hashpw(password, salt)\n",
    "Melakukan hashing kata sandi "
   ]
  },
  {
   "cell_type": "code",
   "execution_count": 23,
   "metadata": {},
   "outputs": [
    {
     "name": "stdout",
     "output_type": "stream",
     "text": [
      "Kata sandi terenkripsi: b'$2b$12$uAWgLjzjMsKzFh6jMhqd2O4OpISOa6S6GQi6R6.WkzJqpoQAEA2Ra'\n"
     ]
    }
   ],
   "source": [
    "print(\"Kata sandi terenkripsi:\", hashed_password)\n"
   ]
  },
  {
   "attachments": {},
   "cell_type": "markdown",
   "metadata": {},
   "source": [
    "melihat kata sandi sudah terenkripsi $2b$12$7J8fENFOKhp/LK4FV77houHg7o00y3hcoILAiRTpgr5J0kTu0/KVm"
   ]
  },
  {
   "attachments": {},
   "cell_type": "markdown",
   "metadata": {},
   "source": [
    "### Simmetric Encryption"
   ]
  },
  {
   "attachments": {},
   "cell_type": "markdown",
   "metadata": {},
   "source": [
    "Simmetric Encryption menggunakan ECB"
   ]
  },
  {
   "cell_type": "code",
   "execution_count": 24,
   "metadata": {},
   "outputs": [],
   "source": [
    "from cryptography.hazmat.primitives.ciphers import Cipher, algorithms, modes\n",
    "from cryptography.hazmat.backends import default_backend\n",
    "import os"
   ]
  },
  {
   "attachments": {},
   "cell_type": "markdown",
   "metadata": {},
   "source": [
    "MEngimport library dari cryptography seperti cipher, algorithm dan modes"
   ]
  },
  {
   "cell_type": "code",
   "execution_count": 25,
   "metadata": {},
   "outputs": [],
   "source": [
    "key = os.urandom(16)"
   ]
  },
  {
   "cell_type": "code",
   "execution_count": 26,
   "metadata": {},
   "outputs": [
    {
     "name": "stdout",
     "output_type": "stream",
     "text": [
      "Kunci: b'\\xfdP\\x9c=\\xb0\\xc0N\\xd0\\x98\\xf1!N\\xdd\\xc4+\\x1f'\n"
     ]
    }
   ],
   "source": [
    "print(\"Kunci:\", key)"
   ]
  },
  {
   "attachments": {},
   "cell_type": "markdown",
   "metadata": {},
   "source": [
    "key = os.urandom(16) variable key berisi acak terdiri dari 16 "
   ]
  },
  {
   "cell_type": "code",
   "execution_count": 27,
   "metadata": {},
   "outputs": [],
   "source": [
    "aesCipher = Cipher(algorithms.AES(key), modes.ECB(), backend=default_backend())"
   ]
  },
  {
   "attachments": {},
   "cell_type": "markdown",
   "metadata": {},
   "source": [
    "aesCipher = Cipher(algorithms.AES(key), modes.ECB(), backend=default_backend()) variable aesCipher menyimpan inisiasi objek dari algoritma aes dengan kunci dari variable key lalu modes ECB digunakan untuk menginisaisi enkripsi dan deskripsi "
   ]
  },
  {
   "cell_type": "code",
   "execution_count": 28,
   "metadata": {},
   "outputs": [],
   "source": [
    "aesEncryptor = aesCipher.encryptor()\n",
    "aesDecryptor = aesCipher.decryptor()"
   ]
  },
  {
   "attachments": {},
   "cell_type": "markdown",
   "metadata": {},
   "source": [
    "aesEncryptor = aesCipher.encryptor() digunakan untuk menenkripsikan aesDecryptor = aesCipher.decryptor() digunakan untuk decrytion"
   ]
  },
  {
   "cell_type": "code",
   "execution_count": 29,
   "metadata": {},
   "outputs": [
    {
     "data": {
      "text/plain": [
       "b''"
      ]
     },
     "execution_count": 29,
     "metadata": {},
     "output_type": "execute_result"
    }
   ],
   "source": [
    "aesEncryptor.update(b'alice')"
   ]
  },
  {
   "attachments": {},
   "cell_type": "markdown",
   "metadata": {},
   "source": [
    "aesEncryptor.update(b'alice') digunakan untuk menenkripsikan \"alice\" dikarenakan kata \"alice\" hanya 5 karakter maka hasilnya tidak terlihat sampai diupdate menjadi 16 karakter"
   ]
  },
  {
   "cell_type": "code",
   "execution_count": 30,
   "metadata": {},
   "outputs": [
    {
     "data": {
      "text/plain": [
       "b''"
      ]
     },
     "execution_count": 30,
     "metadata": {},
     "output_type": "execute_result"
    }
   ],
   "source": [
    "aesEncryptor.update(b'bob')"
   ]
  },
  {
   "cell_type": "code",
   "execution_count": 31,
   "metadata": {},
   "outputs": [
    {
     "data": {
      "text/plain": [
       "b''"
      ]
     },
     "execution_count": 31,
     "metadata": {},
     "output_type": "execute_result"
    }
   ],
   "source": [
    "aesEncryptor.update(b'bob')"
   ]
  },
  {
   "cell_type": "code",
   "execution_count": 32,
   "metadata": {},
   "outputs": [
    {
     "data": {
      "text/plain": [
       "b''"
      ]
     },
     "execution_count": 32,
     "metadata": {},
     "output_type": "execute_result"
    }
   ],
   "source": [
    "aesEncryptor.update(b'bob')"
   ]
  },
  {
   "cell_type": "code",
   "execution_count": 33,
   "metadata": {},
   "outputs": [
    {
     "data": {
      "text/plain": [
       "b'\\xb06\\x84\\xf3\\xcdx\\x8e0\\xed\\\\\\xc1\\xad>\\x8b\\x8a\\x8d'"
      ]
     },
     "execution_count": 33,
     "metadata": {},
     "output_type": "execute_result"
    }
   ],
   "source": [
    "aesEncryptor.update(b'bob')"
   ]
  },
  {
   "attachments": {},
   "cell_type": "markdown",
   "metadata": {},
   "source": [
    "setelah beberapakali untuk mengupdate enkriptor maka sudah 16 karakter dan sudah terlihat hasilnya "
   ]
  },
  {
   "cell_type": "code",
   "execution_count": 34,
   "metadata": {},
   "outputs": [
    {
     "data": {
      "text/plain": [
       "b'alicebobbobbobbo'"
      ]
     },
     "execution_count": 34,
     "metadata": {},
     "output_type": "execute_result"
    }
   ],
   "source": [
    "aesDecryptor.update(_)"
   ]
  },
  {
   "attachments": {},
   "cell_type": "markdown",
   "metadata": {},
   "source": [
    "aesDecryptor.update(_) digunakan untuk mendekriptor dan hasilnya b'alicebobbobbobbo' yang mempunyai 16 karakter"
   ]
  },
  {
   "attachments": {},
   "cell_type": "markdown",
   "metadata": {},
   "source": [
    "### Algoritma AES"
   ]
  },
  {
   "cell_type": "code",
   "execution_count": 35,
   "metadata": {},
   "outputs": [],
   "source": [
    "from cryptography.fernet import Fernet"
   ]
  },
  {
   "attachments": {},
   "cell_type": "markdown",
   "metadata": {},
   "source": [
    "from cryptography.fernet import Fernet mengimport library cryptography yang berisi  fernet"
   ]
  },
  {
   "cell_type": "code",
   "execution_count": 36,
   "metadata": {},
   "outputs": [],
   "source": [
    "def encrypt(plaintext, key):\n",
    "    f = Fernet(key)\n",
    "    encrypted_text = f.encrypt(plaintext)\n",
    "    return encrypted_text\n",
    "\n"
   ]
  },
  {
   "attachments": {},
   "cell_type": "markdown",
   "metadata": {},
   "source": [
    "mmebuat fungsi enkripsi yang berisi variabel f dan encrypted_text"
   ]
  },
  {
   "cell_type": "code",
   "execution_count": 37,
   "metadata": {},
   "outputs": [],
   "source": [
    "def decrypt(ciphertext, key):\n",
    "    f = Fernet(key)\n",
    "    decrypted_text = f.decrypt(ciphertext)\n",
    "    return decrypted_text\n",
    "\n",
    "\n",
    "\n"
   ]
  },
  {
   "attachments": {},
   "cell_type": "markdown",
   "metadata": {},
   "source": [
    "mmebuat fungsi enkripsi yang berisi variabel f dan decrypted text"
   ]
  },
  {
   "cell_type": "code",
   "execution_count": 38,
   "metadata": {},
   "outputs": [],
   "source": [
    "plaintext = b\"This is a secret message.\"\n",
    "key = Fernet.generate_key()  # Menghasilkan kunci acak\n",
    "\n"
   ]
  },
  {
   "attachments": {},
   "cell_type": "markdown",
   "metadata": {},
   "source": [
    "membuat variabel plain text dan key"
   ]
  },
  {
   "cell_type": "code",
   "execution_count": 39,
   "metadata": {},
   "outputs": [
    {
     "name": "stdout",
     "output_type": "stream",
     "text": [
      "Ciphertext: b'gAAAAABkmpS_z3KXZjAre7Sb4V_dkkQ5COYID_qWUnKosboG62LG3bPsvUdMuWv-uoAkuyR59_RHbknMxFTxZHgzt7xfoEr8XqcKCE9YWuXjYwG2kanKk6c='\n"
     ]
    }
   ],
   "source": [
    "ciphertext = encrypt(plaintext, key)\n",
    "print(\"Ciphertext:\", ciphertext)\n"
   ]
  },
  {
   "attachments": {},
   "cell_type": "markdown",
   "metadata": {},
   "source": [
    "membuat variabel ciphertext yang berisi fungsi encrypt dari plaintext dan key\n",
    "lalu mencetak ciphertext"
   ]
  },
  {
   "cell_type": "code",
   "execution_count": 40,
   "metadata": {},
   "outputs": [
    {
     "name": "stdout",
     "output_type": "stream",
     "text": [
      "Decrypted text: This is a secret message.\n"
     ]
    }
   ],
   "source": [
    "decrypted_text = decrypt(ciphertext, key)\n",
    "print(\"Decrypted text:\", decrypted_text.decode(\"utf-8\"))\n"
   ]
  },
  {
   "attachments": {},
   "cell_type": "markdown",
   "metadata": {},
   "source": [
    "mendekrip ciphertext menggunakan key lalu dicetak "
   ]
  },
  {
   "attachments": {},
   "cell_type": "markdown",
   "metadata": {},
   "source": [
    "### Asymmetric Encryption"
   ]
  },
  {
   "attachments": {},
   "cell_type": "markdown",
   "metadata": {},
   "source": [
    "RSA adalah salah satu algoritma enkripsi asimetris yang paling populer. Algoritma ini menggunakan pasangan kunci publik-privat, di mana pesan dienkripsi dengan kunci publik dan hanya dapat didekripsi dengan kunci privat yang sesuai.\n"
   ]
  },
  {
   "cell_type": "code",
   "execution_count": 41,
   "metadata": {},
   "outputs": [],
   "source": [
    "from cryptography.hazmat.primitives.asymmetric import rsa\n",
    "from cryptography.hazmat.primitives import serialization, hashes\n",
    "from cryptography.hazmat.primitives.asymmetric import padding\n"
   ]
  },
  {
   "attachments": {},
   "cell_type": "markdown",
   "metadata": {},
   "source": [
    "from cryptography.hazmat.primitives.asymmetric import rsa\n",
    "from cryptography.hazmat.primitives import serialization, hashes\n",
    "from cryptography.hazmat.primitives.asymmetric import padding\n",
    "\n",
    "mengimport library RSA dan paddingdari assymetric lalu serialization dan hashes"
   ]
  },
  {
   "cell_type": "code",
   "execution_count": 42,
   "metadata": {},
   "outputs": [],
   "source": [
    "private_key = rsa.generate_private_key(\n",
    "    public_exponent=65537,\n",
    "    key_size=4096,\n",
    ")\n",
    "\n",
    "public_key = private_key.public_key()\n"
   ]
  },
  {
   "attachments": {},
   "cell_type": "markdown",
   "metadata": {},
   "source": [
    "private_key = rsa.generate_private_key(\n",
    "    public_exponent=65537,\n",
    "    key_size=2048\n",
    ")\n",
    "public_key = private_key.public_key()\n",
    "\n",
    "\n",
    "Menggenerate private key menggunakan rsa dengan parameter public_exponent dan key_size"
   ]
  },
  {
   "cell_type": "code",
   "execution_count": 43,
   "metadata": {},
   "outputs": [],
   "source": [
    "message = b'Hello, World!'\n",
    "ciphertext = public_key.encrypt(\n",
    "    message,\n",
    "    padding.OAEP(\n",
    "        mgf=padding.MGF1(algorithm=hashes.SHA256()),\n",
    "        algorithm=hashes.SHA256(),\n",
    "        label=None\n",
    "    )\n",
    ")"
   ]
  },
  {
   "attachments": {},
   "cell_type": "markdown",
   "metadata": {},
   "source": [
    "message = b'Hello, World!'\n",
    "ciphertext = public_key.encrypt(\n",
    "    message,\n",
    "    padding.OAEP(\n",
    "        mgf=padding.MGF1(algorithm=hashes.SHA256()),\n",
    "        algorithm=hashes.SHA256(),\n",
    "        label=None\n",
    "    )\n",
    ")"
   ]
  },
  {
   "attachments": {},
   "cell_type": "markdown",
   "metadata": {},
   "source": [
    "Membuat variable message yang berisi hello world dan cipher text berisi enkripsi menggunakan key public"
   ]
  },
  {
   "cell_type": "code",
   "execution_count": 44,
   "metadata": {},
   "outputs": [],
   "source": [
    "plaintext = private_key.decrypt(\n",
    "    ciphertext,\n",
    "    padding.OAEP(\n",
    "        mgf=padding.MGF1(algorithm=hashes.SHA256()),\n",
    "        algorithm=hashes.SHA256(),\n",
    "        label=None\n",
    "    )\n",
    ")\n"
   ]
  },
  {
   "attachments": {},
   "cell_type": "markdown",
   "metadata": {},
   "source": [
    "plaintext = private_key.decrypt(\n",
    "    ciphertext,\n",
    "    padding.OAEP(\n",
    "        mgf=padding.MGF1(algorithm=hashes.SHA256()),\n",
    "        algorithm=hashes.SHA256(),\n",
    "        label=None\n",
    "    )\n",
    ")\n",
    "Membuat variable plaintext untuk decrypt message yang sudah di enkripsi"
   ]
  },
  {
   "cell_type": "code",
   "execution_count": 45,
   "metadata": {},
   "outputs": [
    {
     "name": "stdout",
     "output_type": "stream",
     "text": [
      "Pesan asli: b'Hello, World!'\n",
      "Pesan terenkripsi: b\"3\\x92\\x92\\xe8\\xd2\\x1b\\x0b*\\xa9<V~\\x8a\\x82y\\xe1\\x98F\\xb4p\\xd3\\x92:W\\xa8\\x08)Bp\\xf8\\xcaU\\x90E\\xd2$[\\xc0\\xef\\xcb\\xfc\\xedF\\x91\\x81[\\xcb\\x9a\\xb7\\x9d\\xe2B\\xbf\\x84\\x0f~\\x1e\\xc5H0IB\\xf5\\xfa\\xd0\\xa7bdT\\xf5\\xc2u\\x88{>\\x87Y\\xab\\xb4\\xfb\\xc7\\x83\\x1a\\x13q\\xc0xe\\xee\\xc8\\xd9\\xf3{\\xfdo\\xab\\xc0M\\x9e\\xa8\\x80F#@\\x85\\xe4\\x14\\x18d\\xe9@\\xbd\\x8e\\xc4\\xff\\xb7U\\x8bl70\\x9c\\xcbq\\xcf!\\n9[!\\xff\\x93\\xc8\\xa2\\xc0\\xf6!S\\xd5`\\xc7c{H\\xa9z\\xe5Y\\xb8^6\\x03d\\x99kz\\xbdms\\xe7W\\xc6\\xc1u\\xafFZ\\xac\\x9b\\xa612i\\x90\\xe4\\x8eU\\xe0G]\\x16W'F}\\xb4\\xabw\\xc3&\\x9fx\\xaflXa\\x1bS\\xf7\\xc8\\xf7\\x9c\\x89\\x91\\x83\\x81`\\xf7\\x81/\\xf3\\xdaB\\x06\\x90\\x05\\x1e\\xe9\\xcc\\x99\\x9f\\xbd\\xc0\\\\\\xe5>c\\xcc-p\\x93\\xc7;\\xb2\\xb1\\r\\xb8\\xe7\\xbd\\x14b\\xc2\\x95\\xbf\\xb6\\r\\xb7\\x80\\x80~\\x15\\x8f\\xacZ\\x0c)\\xcb\\x97G\\xfd\\xde\\t|i(D\\xdc'K\\xa4\\r`\\xa7GY\\xc6\\xe19\\xfb\\xfaw\\x83\\xf7t,^\\x13|\\x1d\\xad\\xf9\\xebA\\xcaq\\x01A\\x11\\x82\\xec\\xf3\\x8f\\x1e\\x9a\\n\\x1f\\xf9\\x0f\\xf0\\xa3\\x86\\x97\\x1b\\xf7\\x10\\x84Y\\x0c\\xee\\xb8\\xda7{\\x99\\xb1\\x14\\x7fd9\\x83+0\\x95X\\xf7v\\x8dE\\x14Q\\xf1\\x07GV\\xe5z\\xba@G\\x1c\\x8c\\x8d\\xfb\\xbc\\xd5\\xd2Z\\xacc\\xfa\\xc8\\xbd\\xce7RLl\\xc88\\xe8\\xc7\\x05kJ\\x1b\\xe1\\xf6pLc\\x9d]\\x00\\x88\\nqYE\\xda\\x9aUZ\\x7fd\\x95\\x84\\x8f\\x9d*[\\xe8\\xde\\xf6\\xa8\\xbb\\xccH\\xdc\\xf8X\\xfb.n\\x94\\x05{r\\xbd\\xe1^\\xc5.4\\xbe\\xd81\\x93\\xba\\xf6\\t\\xc0\\xba\\xa2\\xd1\\xd9+r\\xdd\\x87[\\xa5\\xa7-Y \\x92\\x992\\xd0\\xd1 \\xe4\\xfb\\x1fQ\\xe3\\xc9\\xf9\\xd9-\\\\\\xc0\\t\\x8bS?8#\\xb5\\x1d\\xc3l\\xc0W\\x86A\\xa0(\\xab\\xf7\\xdf\\x99M\\xf7\\x12\\xd7\\x86\\x99U%\\x80-U\\xd5\\xef\\xbd7\\x10\\\\\\x9a\\xfb\\xed\\x1d\\xb2p_\\xba\\xca\\x9fz\\x91u\"\n",
      "Pesan terdekripsi: b'Hello, World!'\n"
     ]
    }
   ],
   "source": [
    "print(\"Pesan asli:\", message)\n",
    "print(\"Pesan terenkripsi:\", ciphertext)\n",
    "print(\"Pesan terdekripsi:\", plaintext)\n"
   ]
  },
  {
   "attachments": {},
   "cell_type": "markdown",
   "metadata": {},
   "source": [
    "menurut saya RSA pada saat ini adalah security yang populer dan aman. pada kode diatas digunakan key yang berjumlah 4096 bit\n",
    "Pesan dienkripsi menggunakan kunci publik, dan kemudian didekripsi menggunakan kunci pribadi yang sesuai.\n",
    "\n"
   ]
  },
  {
   "attachments": {},
   "cell_type": "markdown",
   "metadata": {},
   "source": [
    "### Message Integrity, Signature and Certificates"
   ]
  },
  {
   "attachments": {},
   "cell_type": "markdown",
   "metadata": {},
   "source": [
    "#### Sign Uncrypted data"
   ]
  },
  {
   "cell_type": "code",
   "execution_count": 46,
   "metadata": {},
   "outputs": [],
   "source": [
    "from cryptography.hazmat.primitives.asymmetric import rsa\n",
    "from cryptography.hazmat.primitives import hashes\n",
    "from cryptography.hazmat.primitives.asymmetric import padding\n",
    "from cryptography.hazmat.backends import default_backend"
   ]
  },
  {
   "attachments": {},
   "cell_type": "markdown",
   "metadata": {},
   "source": [
    "Mengimport beberapa library rsa, hashes, padding dan default backend. RSA digunakan untuk menggenerate private key, hashes digunakan untuk hash dll"
   ]
  },
  {
   "cell_type": "code",
   "execution_count": 47,
   "metadata": {},
   "outputs": [],
   "source": [
    "private_key = rsa.generate_private_key(\n",
    "    public_exponent=65537, key_size=2048, backend=default_backend()\n",
    ")\n",
    "public_key = private_key.public_key()\n"
   ]
  },
  {
   "attachments": {},
   "cell_type": "markdown",
   "metadata": {},
   "source": [
    "membuat variabel private key yang berisi generate dari private key menggunakan public_exponent dan key size dan membuat publick key dengan  berdasarkan  privatekey"
   ]
  },
  {
   "cell_type": "code",
   "execution_count": 48,
   "metadata": {},
   "outputs": [],
   "source": [
    "message = b\"Hello, World!\"\n",
    "\n",
    "signature = private_key.sign(\n",
    "    message,\n",
    "    padding.PSS(mgf=padding.MGF1(hashes.SHA256()), salt_length=padding.PSS.MAX_LENGTH),\n",
    "    hashes.SHA256(),\n",
    ")"
   ]
  },
  {
   "attachments": {},
   "cell_type": "markdown",
   "metadata": {},
   "source": [
    "membuat variabel signature untuk mgf=padding.MGF1(hashes.SHA256()): Parameter ini menentukan algoritma mask generation function (MGF) yang digunakan. MGF1 dengan hash SHA256 dipilih di sini.\n",
    "\n",
    "salt_length=padding.PSS.MAX_LENGTH: Parameter ini menentukan panjang salt (garam) yang digunakan dalam padding PSS. padding.PSS.MAX_LENGTH menandakan panjang salt yang maksimum yang diperbolehkan.\n",
    "\n"
   ]
  },
  {
   "cell_type": "code",
   "execution_count": 49,
   "metadata": {},
   "outputs": [],
   "source": [
    "public_key.verify(\n",
    "    signature,\n",
    "    message,\n",
    "    padding.PSS(mgf=padding.MGF1(hashes.SHA256()), salt_length=padding.PSS.MAX_LENGTH),\n",
    "    hashes.SHA256(),\n",
    ")"
   ]
  },
  {
   "attachments": {},
   "cell_type": "markdown",
   "metadata": {},
   "source": [
    "padding.PSS(mgf=padding.MGF1(hashes.SHA256()), salt_length=padding.PSS.MAX_LENGTH): Ini adalah parameter yang sama dengan yang digunakan dalam proses penandatanganan. Padding PSS dengan konfigurasi yang sama digunakan untuk memastikan kecocokan antara proses penandatanganan dan verifikasi.\n",
    "\n",
    "hashes.SHA256(): Parameter ini juga sama dengan yang digunakan dalam proses penandatanganan. Algoritma hash SHA256 yang sama digunakan untuk memastikan kecocokan antara proses penandatanganan dan verifikasi.\n",
    "\n",
    "Dengan menggunakan public key, tanda tangan digital, padding PSS, dan algoritma hash SHA256, kita dapat melakukan verifikasi terhadap tanda tangan digital pada pesan dengan menggunakan metode public_key.verify(). Metode ini akan mengembalikan None jika verifikasi berhasil, dan akan memunculkan exception InvalidSignature jika verifikasi gagal.\n",
    "\n",
    "\n",
    "\n",
    "\n",
    "\n",
    "\n",
    "\n"
   ]
  },
  {
   "cell_type": "code",
   "execution_count": 50,
   "metadata": {},
   "outputs": [
    {
     "name": "stdout",
     "output_type": "stream",
     "text": [
      "Verify passed! (On failure, throw exception)\n"
     ]
    }
   ],
   "source": [
    "print(\"Verify passed! (On failure, throw exception)\")"
   ]
  }
 ],
 "metadata": {
  "kernelspec": {
   "display_name": "base",
   "language": "python",
   "name": "python3"
  },
  "language_info": {
   "codemirror_mode": {
    "name": "ipython",
    "version": 3
   },
   "file_extension": ".py",
   "mimetype": "text/x-python",
   "name": "python",
   "nbconvert_exporter": "python",
   "pygments_lexer": "ipython3",
   "version": "3.10.9"
  },
  "orig_nbformat": 4
 },
 "nbformat": 4,
 "nbformat_minor": 2
}
